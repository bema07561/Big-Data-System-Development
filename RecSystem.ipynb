{
 "cells": [
  {
   "cell_type": "code",
   "execution_count": 1,
   "metadata": {},
   "outputs": [
    {
     "name": "stdout",
     "output_type": "stream",
     "text": [
      "+----------+--------------+------------+\n",
      "|        id|       User_id|review_score|\n",
      "+----------+--------------+------------+\n",
      "|1882931173| AVCGYZL8FQQTD|           4|\n",
      "|0595344550| ACO23CG8K8T77|           5|\n",
      "|0595344550|A3OS2QHEH495TD|           1|\n",
      "|0595344550|A3OZDTEEAF8GS9|           1|\n",
      "|0802841899| ANX3DDV12ZRRU|           4|\n",
      "|0802841899|A2H2LORTA5EZY2|           4|\n",
      "|B0007FIF28|A2GERYVE64DIPL|           3|\n",
      "|B000JINSBG|A15A5KPP3AL76U|           5|\n",
      "|0918973031|A1X1CW1GXKC50V|           5|\n",
      "|0918973031| A309DQ3THGNXD|           5|\n",
      "|0974289108|A1KZ0RDJZQSY4O|           3|\n",
      "|0974289108|A3AJA5ADM3Q8LM|           5|\n",
      "|B000NKGYMK|A258YNWJW2264M|           3|\n",
      "|B000NKGYMK|A2WY5VMJQ0MM1A|           5|\n",
      "|B000NKGYMK| A7IA8CTTSQ7A4|           3|\n",
      "|0789480662|A2GA412HQHN8WV|           5|\n",
      "|0789480662|A35Z7FIHBSCHKR|           4|\n",
      "|0789480662|A13HDF4J03LQ81|           4|\n",
      "|B0000CJHIO|A1UHTWM53B5KM1|           4|\n",
      "|B0000CJHIO|A22PE7W18KPDE2|           5|\n",
      "+----------+--------------+------------+\n",
      "only showing top 20 rows\n",
      "\n"
     ]
    }
   ],
   "source": [
    "import findspark\n",
    "findspark.init(\"C:\\spark\")\n",
    "\n",
    "from pyspark.sql import SparkSession\n",
    "\n",
    "# Initialize SparkSession\n",
    "spark = SparkSession.builder \\\n",
    "    .appName(\"Clean Data\") \\\n",
    "    .getOrCreate()\n",
    "\n",
    "# Load the CSV file\n",
    "df = spark.read.csv(\"D:\\Crack\\Book_rating.csv\", header=True, inferSchema=True)\n",
    "\n",
    "# Define the list of columns you want to keep\n",
    "columns_to_keep = [\"id\", \"User_id\", \"review_score\"]\n",
    "\n",
    "# Select only the columns you want to keep\n",
    "df_cleaned = df.select(columns_to_keep)\n",
    "\n",
    "# Drop rows with missing User_id or missing review_score\n",
    "df_cleaned = df_cleaned.dropna(subset=[\"User_id\", \"review_score\", 'id'])\n",
    "\n",
    "# Show the first few rows of the cleaned DataFrame\n",
    "df_cleaned.show()\n"
   ]
  },
  {
   "cell_type": "code",
   "execution_count": 21,
   "metadata": {},
   "outputs": [
    {
     "name": "stdout",
     "output_type": "stream",
     "text": [
      "Root Mean Squared Error (RMSE) = 2.9929781215420115\n"
     ]
    }
   ],
   "source": [
    "from pyspark.ml.recommendation import ALS\n",
    "from pyspark.ml.evaluation import RegressionEvaluator\n",
    "from pyspark.sql.functions import col, abs, hash\n",
    "\n",
    "# Filter out rows with missing User_id\n",
    "df_cleaned = df_cleaned.filter(df_cleaned[\"User_id\"].isNotNull())\n",
    "\n",
    "# Filter out rows with missing id\n",
    "df_cleaned = df_cleaned.filter(df_cleaned[\"id\"].isNotNull())\n",
    "\n",
    "# Filter out rows with missing review_score\n",
    "df_cleaned = df_cleaned.filter(df_cleaned[\"review_score\"].isNotNull())\n",
    "\n",
    "# Convert User_id to a numeric type using a hash function\n",
    "df_cleaned = df_cleaned.withColumn(\"User_id\", (abs(hash(col(\"User_id\"))) % (10 ** 8)).cast(\"integer\"))\n",
    "\n",
    "# Generate unique numeric IDs for 'id' \n",
    "df_cleaned = df_cleaned.withColumn(\"id_numeric\", (abs(hash(col(\"id\"))) % (10 ** 8)).cast(\"integer\"))\n",
    "\n",
    "# Convert id to a numeric type\n",
    "df_cleaned = df_cleaned.withColumn(\"review_score\", df_cleaned[\"review_score\"].cast(\"float\"))\n",
    "\n",
    "# Build the ALS model\n",
    "als = ALS(\n",
    "    maxIter=5,\n",
    "    regParam=0.01,\n",
    "    userCol=\"User_id\",\n",
    "    itemCol=\"id_numeric\",\n",
    "    ratingCol=\"review_score\",\n",
    "    coldStartStrategy=\"drop\"\n",
    ")\n",
    "\n",
    "# Split the data into training and test sets\n",
    "(training, test) = df_cleaned.randomSplit([0.8, 0.2])\n",
    "\n",
    "# Fit the ALS model on the training data\n",
    "model = als.fit(training)\n",
    "\n",
    "# Generate predictions on the test data\n",
    "predictions = model.transform(test)\n",
    "\n",
    "# Evaluate the model\n",
    "evaluator = RegressionEvaluator(\n",
    "    metricName=\"rmse\",\n",
    "    labelCol=\"review_score\",\n",
    "    predictionCol=\"prediction\"\n",
    ")\n",
    "rmse = evaluator.evaluate(predictions)\n",
    "print(f\"Root Mean Squared Error (RMSE) = {rmse}\")\n",
    "\n",
    "\n"
   ]
  }
 ],
 "metadata": {
  "kernelspec": {
   "display_name": "Python 3",
   "language": "python",
   "name": "python3"
  },
  "language_info": {
   "codemirror_mode": {
    "name": "ipython",
    "version": 3
   },
   "file_extension": ".py",
   "mimetype": "text/x-python",
   "name": "python",
   "nbconvert_exporter": "python",
   "pygments_lexer": "ipython3",
   "version": "3.11.4"
  },
  "orig_nbformat": 4
 },
 "nbformat": 4,
 "nbformat_minor": 2
}
