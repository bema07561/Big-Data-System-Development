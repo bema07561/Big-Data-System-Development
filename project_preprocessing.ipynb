{
 "cells": [
  {
   "cell_type": "code",
   "execution_count": 2,
   "id": "cc3735ed-a27f-4abe-af24-d64e7abe1bca",
   "metadata": {},
   "outputs": [],
   "source": [
    "import pandas as pd\n",
    "import numpy as np\n",
    "import os"
   ]
  },
  {
   "cell_type": "code",
   "execution_count": 12,
   "id": "eed73c5d-de6e-463e-b2a2-c4eb0dc438ec",
   "metadata": {},
   "outputs": [],
   "source": [
    "book_data = pd.read_json(\"D:\\\\Uni\\\\Sem 5\\\\BigData\\\\Project\\\\Big-Data-Project\\\\Preprocessing\\\\input\\\\books_data.json\")\n",
    "book_ratings = pd.read_json(\"D:\\\\Uni\\\\Sem 5\\\\BigData\\\\Project\\\\Big-Data-Project\\\\Preprocessing\\\\input\\\\books_rating.json\")"
   ]
  },
  {
   "cell_type": "code",
   "execution_count": 17,
   "id": "ccc842e0-a3db-46d5-a486-635b5b436ce9",
   "metadata": {},
   "outputs": [],
   "source": [
    "book_data = book_data[['Title', 'authors', 'publisher', 'publishedDate', 'categories', 'ratingsCount']]"
   ]
  },
  {
   "cell_type": "code",
   "execution_count": 21,
   "id": "3048eed2-074e-4404-9847-f66a9007262f",
   "metadata": {},
   "outputs": [],
   "source": [
    "book_ratings = book_ratings[['User_id', 'Title', 'review/score']]"
   ]
  },
  {
   "cell_type": "code",
   "execution_count": 22,
   "id": "fd35e826-c2a7-4aac-8bb1-ba8ae99cd29e",
   "metadata": {},
   "outputs": [
    {
     "data": {
      "text/html": [
       "<div>\n",
       "<style scoped>\n",
       "    .dataframe tbody tr th:only-of-type {\n",
       "        vertical-align: middle;\n",
       "    }\n",
       "\n",
       "    .dataframe tbody tr th {\n",
       "        vertical-align: top;\n",
       "    }\n",
       "\n",
       "    .dataframe thead th {\n",
       "        text-align: right;\n",
       "    }\n",
       "</style>\n",
       "<table border=\"1\" class=\"dataframe\">\n",
       "  <thead>\n",
       "    <tr style=\"text-align: right;\">\n",
       "      <th></th>\n",
       "      <th>User_id</th>\n",
       "      <th>Title</th>\n",
       "      <th>review/score</th>\n",
       "    </tr>\n",
       "  </thead>\n",
       "  <tbody>\n",
       "    <tr>\n",
       "      <th>0</th>\n",
       "      <td>AVCGYZL8FQQTD</td>\n",
       "      <td>Its Only Art If Its Well Hung!</td>\n",
       "      <td>4.0</td>\n",
       "    </tr>\n",
       "    <tr>\n",
       "      <th>1</th>\n",
       "      <td>A30TK6U7DNS82R</td>\n",
       "      <td>Dr. Seuss: American Icon</td>\n",
       "      <td>5.0</td>\n",
       "    </tr>\n",
       "    <tr>\n",
       "      <th>2</th>\n",
       "      <td>A3UH4UZ4RSVO82</td>\n",
       "      <td>Dr. Seuss: American Icon</td>\n",
       "      <td>5.0</td>\n",
       "    </tr>\n",
       "    <tr>\n",
       "      <th>3</th>\n",
       "      <td>A2MVUWT453QH61</td>\n",
       "      <td>Dr. Seuss: American Icon</td>\n",
       "      <td>4.0</td>\n",
       "    </tr>\n",
       "    <tr>\n",
       "      <th>4</th>\n",
       "      <td>A22X4XUPKF66MR</td>\n",
       "      <td>Dr. Seuss: American Icon</td>\n",
       "      <td>4.0</td>\n",
       "    </tr>\n",
       "  </tbody>\n",
       "</table>\n",
       "</div>"
      ],
      "text/plain": [
       "          User_id                           Title  review/score\n",
       "0   AVCGYZL8FQQTD  Its Only Art If Its Well Hung!           4.0\n",
       "1  A30TK6U7DNS82R        Dr. Seuss: American Icon           5.0\n",
       "2  A3UH4UZ4RSVO82        Dr. Seuss: American Icon           5.0\n",
       "3  A2MVUWT453QH61        Dr. Seuss: American Icon           4.0\n",
       "4  A22X4XUPKF66MR        Dr. Seuss: American Icon           4.0"
      ]
     },
     "execution_count": 22,
     "metadata": {},
     "output_type": "execute_result"
    }
   ],
   "source": [
    "book_ratings.head(5)"
   ]
  },
  {
   "cell_type": "code",
   "execution_count": 43,
   "id": "7ef64709-cc76-4200-802e-90051e3b1b11",
   "metadata": {},
   "outputs": [
    {
     "data": {
      "text/html": [
       "<div>\n",
       "<style scoped>\n",
       "    .dataframe tbody tr th:only-of-type {\n",
       "        vertical-align: middle;\n",
       "    }\n",
       "\n",
       "    .dataframe tbody tr th {\n",
       "        vertical-align: top;\n",
       "    }\n",
       "\n",
       "    .dataframe thead th {\n",
       "        text-align: right;\n",
       "    }\n",
       "</style>\n",
       "<table border=\"1\" class=\"dataframe\">\n",
       "  <thead>\n",
       "    <tr style=\"text-align: right;\">\n",
       "      <th></th>\n",
       "      <th>Title</th>\n",
       "      <th>authors</th>\n",
       "      <th>publisher</th>\n",
       "      <th>publishedDate</th>\n",
       "      <th>categories</th>\n",
       "      <th>ratingsCount</th>\n",
       "    </tr>\n",
       "  </thead>\n",
       "  <tbody>\n",
       "    <tr>\n",
       "      <th>0</th>\n",
       "      <td>Its Only Art If Its Well Hung!</td>\n",
       "      <td>['Julie Strain']</td>\n",
       "      <td>NaN</td>\n",
       "      <td>1996</td>\n",
       "      <td>['Comics &amp; Graphic Novels']</td>\n",
       "      <td>NaN</td>\n",
       "    </tr>\n",
       "    <tr>\n",
       "      <th>1</th>\n",
       "      <td>Dr. Seuss: American Icon</td>\n",
       "      <td>['Philip Nel']</td>\n",
       "      <td>A&amp;C Black</td>\n",
       "      <td>2005-01-01</td>\n",
       "      <td>['Biography &amp; Autobiography']</td>\n",
       "      <td>NaN</td>\n",
       "    </tr>\n",
       "    <tr>\n",
       "      <th>2</th>\n",
       "      <td>Wonderful Worship in Smaller Churches</td>\n",
       "      <td>['David R. Ray']</td>\n",
       "      <td>NaN</td>\n",
       "      <td>2000</td>\n",
       "      <td>['Religion']</td>\n",
       "      <td>NaN</td>\n",
       "    </tr>\n",
       "    <tr>\n",
       "      <th>3</th>\n",
       "      <td>Whispers of the Wicked Saints</td>\n",
       "      <td>['Veronica Haddon']</td>\n",
       "      <td>iUniverse</td>\n",
       "      <td>2005-02</td>\n",
       "      <td>['Fiction']</td>\n",
       "      <td>NaN</td>\n",
       "    </tr>\n",
       "    <tr>\n",
       "      <th>4</th>\n",
       "      <td>Nation Dance: Religion, Identity and Cultural ...</td>\n",
       "      <td>['Edward Long']</td>\n",
       "      <td>NaN</td>\n",
       "      <td>2003-03-01</td>\n",
       "      <td>NaN</td>\n",
       "      <td>NaN</td>\n",
       "    </tr>\n",
       "  </tbody>\n",
       "</table>\n",
       "</div>"
      ],
      "text/plain": [
       "                                               Title              authors  \\\n",
       "0                     Its Only Art If Its Well Hung!     ['Julie Strain']   \n",
       "1                           Dr. Seuss: American Icon       ['Philip Nel']   \n",
       "2              Wonderful Worship in Smaller Churches     ['David R. Ray']   \n",
       "3                      Whispers of the Wicked Saints  ['Veronica Haddon']   \n",
       "4  Nation Dance: Religion, Identity and Cultural ...      ['Edward Long']   \n",
       "\n",
       "   publisher publishedDate                     categories  ratingsCount  \n",
       "0        NaN          1996    ['Comics & Graphic Novels']           NaN  \n",
       "1  A&C Black    2005-01-01  ['Biography & Autobiography']           NaN  \n",
       "2        NaN          2000                   ['Religion']           NaN  \n",
       "3  iUniverse       2005-02                    ['Fiction']           NaN  \n",
       "4        NaN    2003-03-01                            NaN           NaN  "
      ]
     },
     "execution_count": 43,
     "metadata": {},
     "output_type": "execute_result"
    }
   ],
   "source": [
    "book_data.head(5)"
   ]
  },
  {
   "cell_type": "code",
   "execution_count": 44,
   "id": "2dfecc30-2c20-4ed3-b120-36e0a13e8c42",
   "metadata": {},
   "outputs": [],
   "source": [
    "average_scores = book_ratings.groupby('Title')['review/score'].mean().reset_index()"
   ]
  },
  {
   "cell_type": "code",
   "execution_count": 45,
   "id": "a36b0a13-002d-43da-88c3-fb65833f8d6f",
   "metadata": {},
   "outputs": [],
   "source": [
    "merged_data = pd.merge(book_data, average_scores, on='Title', how='left')"
   ]
  },
  {
   "cell_type": "code",
   "execution_count": 46,
   "id": "bd7706c6-b06b-4066-b758-a336f69f5879",
   "metadata": {},
   "outputs": [
    {
     "data": {
      "text/html": [
       "<div>\n",
       "<style scoped>\n",
       "    .dataframe tbody tr th:only-of-type {\n",
       "        vertical-align: middle;\n",
       "    }\n",
       "\n",
       "    .dataframe tbody tr th {\n",
       "        vertical-align: top;\n",
       "    }\n",
       "\n",
       "    .dataframe thead th {\n",
       "        text-align: right;\n",
       "    }\n",
       "</style>\n",
       "<table border=\"1\" class=\"dataframe\">\n",
       "  <thead>\n",
       "    <tr style=\"text-align: right;\">\n",
       "      <th></th>\n",
       "      <th>Title</th>\n",
       "      <th>authors</th>\n",
       "      <th>publisher</th>\n",
       "      <th>publishedDate</th>\n",
       "      <th>categories</th>\n",
       "      <th>ratingsCount</th>\n",
       "      <th>review/score</th>\n",
       "    </tr>\n",
       "  </thead>\n",
       "  <tbody>\n",
       "    <tr>\n",
       "      <th>0</th>\n",
       "      <td>Its Only Art If Its Well Hung!</td>\n",
       "      <td>['Julie Strain']</td>\n",
       "      <td>NaN</td>\n",
       "      <td>1996</td>\n",
       "      <td>['Comics &amp; Graphic Novels']</td>\n",
       "      <td>NaN</td>\n",
       "      <td>4.000000</td>\n",
       "    </tr>\n",
       "    <tr>\n",
       "      <th>1</th>\n",
       "      <td>Dr. Seuss: American Icon</td>\n",
       "      <td>['Philip Nel']</td>\n",
       "      <td>A&amp;C Black</td>\n",
       "      <td>2005-01-01</td>\n",
       "      <td>['Biography &amp; Autobiography']</td>\n",
       "      <td>NaN</td>\n",
       "      <td>4.555556</td>\n",
       "    </tr>\n",
       "    <tr>\n",
       "      <th>2</th>\n",
       "      <td>Wonderful Worship in Smaller Churches</td>\n",
       "      <td>['David R. Ray']</td>\n",
       "      <td>NaN</td>\n",
       "      <td>2000</td>\n",
       "      <td>['Religion']</td>\n",
       "      <td>NaN</td>\n",
       "      <td>5.000000</td>\n",
       "    </tr>\n",
       "    <tr>\n",
       "      <th>3</th>\n",
       "      <td>Whispers of the Wicked Saints</td>\n",
       "      <td>['Veronica Haddon']</td>\n",
       "      <td>iUniverse</td>\n",
       "      <td>2005-02</td>\n",
       "      <td>['Fiction']</td>\n",
       "      <td>NaN</td>\n",
       "      <td>3.718750</td>\n",
       "    </tr>\n",
       "    <tr>\n",
       "      <th>4</th>\n",
       "      <td>Nation Dance: Religion, Identity and Cultural ...</td>\n",
       "      <td>['Edward Long']</td>\n",
       "      <td>NaN</td>\n",
       "      <td>2003-03-01</td>\n",
       "      <td>NaN</td>\n",
       "      <td>NaN</td>\n",
       "      <td>5.000000</td>\n",
       "    </tr>\n",
       "  </tbody>\n",
       "</table>\n",
       "</div>"
      ],
      "text/plain": [
       "                                               Title              authors  \\\n",
       "0                     Its Only Art If Its Well Hung!     ['Julie Strain']   \n",
       "1                           Dr. Seuss: American Icon       ['Philip Nel']   \n",
       "2              Wonderful Worship in Smaller Churches     ['David R. Ray']   \n",
       "3                      Whispers of the Wicked Saints  ['Veronica Haddon']   \n",
       "4  Nation Dance: Religion, Identity and Cultural ...      ['Edward Long']   \n",
       "\n",
       "   publisher publishedDate                     categories  ratingsCount  \\\n",
       "0        NaN          1996    ['Comics & Graphic Novels']           NaN   \n",
       "1  A&C Black    2005-01-01  ['Biography & Autobiography']           NaN   \n",
       "2        NaN          2000                   ['Religion']           NaN   \n",
       "3  iUniverse       2005-02                    ['Fiction']           NaN   \n",
       "4        NaN    2003-03-01                            NaN           NaN   \n",
       "\n",
       "   review/score  \n",
       "0      4.000000  \n",
       "1      4.555556  \n",
       "2      5.000000  \n",
       "3      3.718750  \n",
       "4      5.000000  "
      ]
     },
     "execution_count": 46,
     "metadata": {},
     "output_type": "execute_result"
    }
   ],
   "source": [
    "merged_data.head(5)"
   ]
  },
  {
   "cell_type": "code",
   "execution_count": 47,
   "id": "fc85599a-140f-49af-a2e2-8f0931a772ce",
   "metadata": {},
   "outputs": [
    {
     "data": {
      "text/plain": [
       "212404"
      ]
     },
     "execution_count": 47,
     "metadata": {},
     "output_type": "execute_result"
    }
   ],
   "source": [
    "len(merged_data)"
   ]
  },
  {
   "cell_type": "code",
   "execution_count": 49,
   "id": "ee226e13-a9e5-4e91-9d47-7ca0c9885338",
   "metadata": {},
   "outputs": [],
   "source": [
    "merged_data = merged_data[['Title', 'authors', 'publisher', 'publishedDate', 'categories', 'review/score']]"
   ]
  },
  {
   "cell_type": "code",
   "execution_count": 50,
   "id": "cc68526b-9bce-4907-9f7c-f1736268dd9d",
   "metadata": {},
   "outputs": [],
   "source": [
    "merged_data.to_csv('merged_book_data.csv', index=False)"
   ]
  },
  {
   "cell_type": "code",
   "execution_count": null,
   "id": "ed9787c0-77d9-47ae-b4f8-e782558dcf0c",
   "metadata": {},
   "outputs": [],
   "source": []
  }
 ],
 "metadata": {
  "kernelspec": {
   "display_name": "Python 3 (ipykernel)",
   "language": "python",
   "name": "python3"
  },
  "language_info": {
   "codemirror_mode": {
    "name": "ipython",
    "version": 3
   },
   "file_extension": ".py",
   "mimetype": "text/x-python",
   "name": "python",
   "nbconvert_exporter": "python",
   "pygments_lexer": "ipython3",
   "version": "3.11.4"
  }
 },
 "nbformat": 4,
 "nbformat_minor": 5
}
